{
  "nbformat": 4,
  "nbformat_minor": 0,
  "metadata": {
    "colab": {
      "provenance": []
    },
    "kernelspec": {
      "name": "python3",
      "display_name": "Python 3"
    },
    "language_info": {
      "name": "python"
    }
  },
  "cells": [
    {
      "cell_type": "code",
      "execution_count": 1,
      "metadata": {
        "id": "ggQQ4u_cR9X_"
      },
      "outputs": [],
      "source": [
        "from matplotlib import pyplot\n",
        "from sklearn.datasets import make_moons\n",
        "from keras.models import Sequential\n",
        "from keras.layers import Dense"
      ]
    },
    {
      "cell_type": "code",
      "source": [
        "X,Y=make_moons(n_samples=100,noise=0.2,random_state=1)\n",
        "n_train=30\n",
        "trainX,testX=X[:n_train,:],X[n_train:]\n",
        "trainY,testY=Y[:n_train],Y[n_train:]"
      ],
      "metadata": {
        "id": "i7omHprPSFlk"
      },
      "execution_count": 2,
      "outputs": []
    },
    {
      "cell_type": "code",
      "source": [
        "print(trainX.shape)\n",
        "print(trainY.shape)\n",
        "print(testX.shape)\n",
        "print(testY.shape)"
      ],
      "metadata": {
        "colab": {
          "base_uri": "https://localhost:8080/"
        },
        "id": "Ac3fkSdmSLvI",
        "outputId": "7b0bc983-ca4c-4fea-b416-c550621b10f9"
      },
      "execution_count": 3,
      "outputs": [
        {
          "output_type": "stream",
          "name": "stdout",
          "text": [
            "(30, 2)\n",
            "(30,)\n",
            "(70, 2)\n",
            "(70,)\n"
          ]
        }
      ]
    },
    {
      "cell_type": "code",
      "source": [
        "model=Sequential()\n",
        "model.add(Dense(500,input_dim=2,activation='relu'))\n",
        "model.add(Dense(1,activation='sigmoid'))\n",
        "model.compile(loss='binary_crossentropy',optimizer='adam',metrics=['accuracy'])"
      ],
      "metadata": {
        "id": "3JD_NgOlYNk3"
      },
      "execution_count": 4,
      "outputs": []
    },
    {
      "cell_type": "code",
      "source": [
        "model.summary()"
      ],
      "metadata": {
        "colab": {
          "base_uri": "https://localhost:8080/"
        },
        "id": "0mMRpq-UYZXP",
        "outputId": "ff45f339-3636-46a6-fe4e-d360922fc139"
      },
      "execution_count": 5,
      "outputs": [
        {
          "output_type": "stream",
          "name": "stdout",
          "text": [
            "Model: \"sequential\"\n",
            "_________________________________________________________________\n",
            " Layer (type)                Output Shape              Param #   \n",
            "=================================================================\n",
            " dense (Dense)               (None, 500)               1500      \n",
            "                                                                 \n",
            " dense_1 (Dense)             (None, 1)                 501       \n",
            "                                                                 \n",
            "=================================================================\n",
            "Total params: 2,001\n",
            "Trainable params: 2,001\n",
            "Non-trainable params: 0\n",
            "_________________________________________________________________\n"
          ]
        }
      ]
    },
    {
      "cell_type": "code",
      "source": [
        "history=model.fit(trainX,trainY,validation_data=(testX,testY),epochs=100)"
      ],
      "metadata": {
        "colab": {
          "base_uri": "https://localhost:8080/"
        },
        "id": "dS8GBfcuYery",
        "outputId": "4b064f7d-0e65-48f0-d4fc-e380e24e4133"
      },
      "execution_count": 7,
      "outputs": [
        {
          "output_type": "stream",
          "name": "stdout",
          "text": [
            "Epoch 1/100\n",
            "1/1 [==============================] - 0s 49ms/step - loss: 0.0873 - accuracy: 0.9667 - val_loss: 0.2908 - val_accuracy: 0.8857\n",
            "Epoch 2/100\n",
            "1/1 [==============================] - 0s 31ms/step - loss: 0.0870 - accuracy: 0.9667 - val_loss: 0.2904 - val_accuracy: 0.8857\n",
            "Epoch 3/100\n",
            "1/1 [==============================] - 0s 31ms/step - loss: 0.0868 - accuracy: 0.9667 - val_loss: 0.2900 - val_accuracy: 0.8857\n",
            "Epoch 4/100\n",
            "1/1 [==============================] - 0s 31ms/step - loss: 0.0865 - accuracy: 0.9667 - val_loss: 0.2895 - val_accuracy: 0.8857\n",
            "Epoch 5/100\n",
            "1/1 [==============================] - 0s 49ms/step - loss: 0.0862 - accuracy: 0.9667 - val_loss: 0.2891 - val_accuracy: 0.8857\n",
            "Epoch 6/100\n",
            "1/1 [==============================] - 0s 46ms/step - loss: 0.0860 - accuracy: 0.9667 - val_loss: 0.2887 - val_accuracy: 0.8857\n",
            "Epoch 7/100\n",
            "1/1 [==============================] - 0s 47ms/step - loss: 0.0857 - accuracy: 0.9667 - val_loss: 0.2883 - val_accuracy: 0.8857\n",
            "Epoch 8/100\n",
            "1/1 [==============================] - 0s 35ms/step - loss: 0.0855 - accuracy: 0.9667 - val_loss: 0.2879 - val_accuracy: 0.8857\n",
            "Epoch 9/100\n",
            "1/1 [==============================] - 0s 49ms/step - loss: 0.0852 - accuracy: 0.9667 - val_loss: 0.2875 - val_accuracy: 0.8857\n",
            "Epoch 10/100\n",
            "1/1 [==============================] - 0s 48ms/step - loss: 0.0849 - accuracy: 0.9667 - val_loss: 0.2871 - val_accuracy: 0.8857\n",
            "Epoch 11/100\n",
            "1/1 [==============================] - 0s 32ms/step - loss: 0.0847 - accuracy: 0.9667 - val_loss: 0.2867 - val_accuracy: 0.8857\n",
            "Epoch 12/100\n",
            "1/1 [==============================] - 0s 52ms/step - loss: 0.0844 - accuracy: 0.9667 - val_loss: 0.2862 - val_accuracy: 0.8857\n",
            "Epoch 13/100\n",
            "1/1 [==============================] - 0s 35ms/step - loss: 0.0842 - accuracy: 0.9667 - val_loss: 0.2857 - val_accuracy: 0.8857\n",
            "Epoch 14/100\n",
            "1/1 [==============================] - 0s 50ms/step - loss: 0.0839 - accuracy: 0.9667 - val_loss: 0.2852 - val_accuracy: 0.8857\n",
            "Epoch 15/100\n",
            "1/1 [==============================] - 0s 32ms/step - loss: 0.0837 - accuracy: 0.9667 - val_loss: 0.2847 - val_accuracy: 0.8857\n",
            "Epoch 16/100\n",
            "1/1 [==============================] - 0s 51ms/step - loss: 0.0834 - accuracy: 0.9667 - val_loss: 0.2843 - val_accuracy: 0.8857\n",
            "Epoch 17/100\n",
            "1/1 [==============================] - 0s 49ms/step - loss: 0.0832 - accuracy: 0.9667 - val_loss: 0.2839 - val_accuracy: 0.8857\n",
            "Epoch 18/100\n",
            "1/1 [==============================] - 0s 36ms/step - loss: 0.0829 - accuracy: 0.9667 - val_loss: 0.2835 - val_accuracy: 0.8857\n",
            "Epoch 19/100\n",
            "1/1 [==============================] - 0s 50ms/step - loss: 0.0826 - accuracy: 0.9667 - val_loss: 0.2831 - val_accuracy: 0.8857\n",
            "Epoch 20/100\n",
            "1/1 [==============================] - 0s 32ms/step - loss: 0.0824 - accuracy: 0.9667 - val_loss: 0.2828 - val_accuracy: 0.8857\n",
            "Epoch 21/100\n",
            "1/1 [==============================] - 0s 44ms/step - loss: 0.0821 - accuracy: 0.9667 - val_loss: 0.2823 - val_accuracy: 0.8857\n",
            "Epoch 22/100\n",
            "1/1 [==============================] - 0s 48ms/step - loss: 0.0819 - accuracy: 0.9667 - val_loss: 0.2819 - val_accuracy: 0.8857\n",
            "Epoch 23/100\n",
            "1/1 [==============================] - 0s 30ms/step - loss: 0.0816 - accuracy: 0.9667 - val_loss: 0.2814 - val_accuracy: 0.8857\n",
            "Epoch 24/100\n",
            "1/1 [==============================] - 0s 33ms/step - loss: 0.0814 - accuracy: 0.9667 - val_loss: 0.2810 - val_accuracy: 0.9000\n",
            "Epoch 25/100\n",
            "1/1 [==============================] - 0s 36ms/step - loss: 0.0811 - accuracy: 0.9667 - val_loss: 0.2805 - val_accuracy: 0.9000\n",
            "Epoch 26/100\n",
            "1/1 [==============================] - 0s 34ms/step - loss: 0.0808 - accuracy: 0.9667 - val_loss: 0.2802 - val_accuracy: 0.9000\n",
            "Epoch 27/100\n",
            "1/1 [==============================] - 0s 34ms/step - loss: 0.0806 - accuracy: 0.9667 - val_loss: 0.2798 - val_accuracy: 0.9000\n",
            "Epoch 28/100\n",
            "1/1 [==============================] - 0s 35ms/step - loss: 0.0803 - accuracy: 0.9667 - val_loss: 0.2794 - val_accuracy: 0.9000\n",
            "Epoch 29/100\n",
            "1/1 [==============================] - 0s 52ms/step - loss: 0.0801 - accuracy: 0.9667 - val_loss: 0.2790 - val_accuracy: 0.9000\n",
            "Epoch 30/100\n",
            "1/1 [==============================] - 0s 63ms/step - loss: 0.0798 - accuracy: 0.9667 - val_loss: 0.2786 - val_accuracy: 0.9000\n",
            "Epoch 31/100\n",
            "1/1 [==============================] - 0s 31ms/step - loss: 0.0796 - accuracy: 0.9667 - val_loss: 0.2781 - val_accuracy: 0.9000\n",
            "Epoch 32/100\n",
            "1/1 [==============================] - 0s 32ms/step - loss: 0.0793 - accuracy: 0.9667 - val_loss: 0.2776 - val_accuracy: 0.9000\n",
            "Epoch 33/100\n",
            "1/1 [==============================] - 0s 40ms/step - loss: 0.0790 - accuracy: 0.9667 - val_loss: 0.2772 - val_accuracy: 0.9000\n",
            "Epoch 34/100\n",
            "1/1 [==============================] - 0s 51ms/step - loss: 0.0788 - accuracy: 0.9667 - val_loss: 0.2768 - val_accuracy: 0.9000\n",
            "Epoch 35/100\n",
            "1/1 [==============================] - 0s 36ms/step - loss: 0.0785 - accuracy: 0.9667 - val_loss: 0.2763 - val_accuracy: 0.9000\n",
            "Epoch 36/100\n",
            "1/1 [==============================] - 0s 47ms/step - loss: 0.0783 - accuracy: 0.9667 - val_loss: 0.2759 - val_accuracy: 0.9000\n",
            "Epoch 37/100\n",
            "1/1 [==============================] - 0s 32ms/step - loss: 0.0780 - accuracy: 0.9667 - val_loss: 0.2754 - val_accuracy: 0.9000\n",
            "Epoch 38/100\n",
            "1/1 [==============================] - 0s 30ms/step - loss: 0.0777 - accuracy: 0.9667 - val_loss: 0.2750 - val_accuracy: 0.9000\n",
            "Epoch 39/100\n",
            "1/1 [==============================] - 0s 33ms/step - loss: 0.0775 - accuracy: 0.9667 - val_loss: 0.2746 - val_accuracy: 0.9000\n",
            "Epoch 40/100\n",
            "1/1 [==============================] - 0s 35ms/step - loss: 0.0772 - accuracy: 0.9667 - val_loss: 0.2741 - val_accuracy: 0.9000\n",
            "Epoch 41/100\n",
            "1/1 [==============================] - 0s 50ms/step - loss: 0.0770 - accuracy: 0.9667 - val_loss: 0.2737 - val_accuracy: 0.9000\n",
            "Epoch 42/100\n",
            "1/1 [==============================] - 0s 32ms/step - loss: 0.0767 - accuracy: 0.9667 - val_loss: 0.2733 - val_accuracy: 0.9000\n",
            "Epoch 43/100\n",
            "1/1 [==============================] - 0s 34ms/step - loss: 0.0765 - accuracy: 0.9667 - val_loss: 0.2729 - val_accuracy: 0.9000\n",
            "Epoch 44/100\n",
            "1/1 [==============================] - 0s 43ms/step - loss: 0.0762 - accuracy: 0.9667 - val_loss: 0.2726 - val_accuracy: 0.9000\n",
            "Epoch 45/100\n",
            "1/1 [==============================] - 0s 49ms/step - loss: 0.0759 - accuracy: 0.9667 - val_loss: 0.2722 - val_accuracy: 0.9000\n",
            "Epoch 46/100\n",
            "1/1 [==============================] - 0s 32ms/step - loss: 0.0757 - accuracy: 0.9667 - val_loss: 0.2717 - val_accuracy: 0.9000\n",
            "Epoch 47/100\n",
            "1/1 [==============================] - 0s 49ms/step - loss: 0.0754 - accuracy: 0.9667 - val_loss: 0.2713 - val_accuracy: 0.9000\n",
            "Epoch 48/100\n",
            "1/1 [==============================] - 0s 33ms/step - loss: 0.0751 - accuracy: 0.9667 - val_loss: 0.2708 - val_accuracy: 0.9000\n",
            "Epoch 49/100\n",
            "1/1 [==============================] - 0s 35ms/step - loss: 0.0749 - accuracy: 0.9667 - val_loss: 0.2704 - val_accuracy: 0.9000\n",
            "Epoch 50/100\n",
            "1/1 [==============================] - 0s 32ms/step - loss: 0.0746 - accuracy: 0.9667 - val_loss: 0.2700 - val_accuracy: 0.9000\n",
            "Epoch 51/100\n",
            "1/1 [==============================] - 0s 32ms/step - loss: 0.0744 - accuracy: 0.9667 - val_loss: 0.2696 - val_accuracy: 0.9000\n",
            "Epoch 52/100\n",
            "1/1 [==============================] - 0s 48ms/step - loss: 0.0741 - accuracy: 0.9667 - val_loss: 0.2692 - val_accuracy: 0.9000\n",
            "Epoch 53/100\n",
            "1/1 [==============================] - 0s 54ms/step - loss: 0.0738 - accuracy: 0.9667 - val_loss: 0.2688 - val_accuracy: 0.9000\n",
            "Epoch 54/100\n",
            "1/1 [==============================] - 0s 31ms/step - loss: 0.0736 - accuracy: 0.9667 - val_loss: 0.2685 - val_accuracy: 0.9000\n",
            "Epoch 55/100\n",
            "1/1 [==============================] - 0s 33ms/step - loss: 0.0733 - accuracy: 0.9667 - val_loss: 0.2681 - val_accuracy: 0.9000\n",
            "Epoch 56/100\n",
            "1/1 [==============================] - 0s 34ms/step - loss: 0.0731 - accuracy: 0.9667 - val_loss: 0.2677 - val_accuracy: 0.9000\n",
            "Epoch 57/100\n",
            "1/1 [==============================] - 0s 33ms/step - loss: 0.0728 - accuracy: 0.9667 - val_loss: 0.2672 - val_accuracy: 0.9000\n",
            "Epoch 58/100\n",
            "1/1 [==============================] - 0s 39ms/step - loss: 0.0726 - accuracy: 0.9667 - val_loss: 0.2668 - val_accuracy: 0.9000\n",
            "Epoch 59/100\n",
            "1/1 [==============================] - 0s 36ms/step - loss: 0.0723 - accuracy: 0.9667 - val_loss: 0.2664 - val_accuracy: 0.9000\n",
            "Epoch 60/100\n",
            "1/1 [==============================] - 0s 31ms/step - loss: 0.0720 - accuracy: 0.9667 - val_loss: 0.2659 - val_accuracy: 0.9143\n",
            "Epoch 61/100\n",
            "1/1 [==============================] - 0s 37ms/step - loss: 0.0718 - accuracy: 0.9667 - val_loss: 0.2656 - val_accuracy: 0.9143\n",
            "Epoch 62/100\n",
            "1/1 [==============================] - 0s 31ms/step - loss: 0.0715 - accuracy: 0.9667 - val_loss: 0.2652 - val_accuracy: 0.9143\n",
            "Epoch 63/100\n",
            "1/1 [==============================] - 0s 32ms/step - loss: 0.0713 - accuracy: 0.9667 - val_loss: 0.2649 - val_accuracy: 0.9143\n",
            "Epoch 64/100\n",
            "1/1 [==============================] - 0s 53ms/step - loss: 0.0710 - accuracy: 0.9667 - val_loss: 0.2645 - val_accuracy: 0.9143\n",
            "Epoch 65/100\n",
            "1/1 [==============================] - 0s 34ms/step - loss: 0.0708 - accuracy: 0.9667 - val_loss: 0.2641 - val_accuracy: 0.9143\n",
            "Epoch 66/100\n",
            "1/1 [==============================] - 0s 30ms/step - loss: 0.0705 - accuracy: 0.9667 - val_loss: 0.2636 - val_accuracy: 0.9143\n",
            "Epoch 67/100\n",
            "1/1 [==============================] - 0s 32ms/step - loss: 0.0703 - accuracy: 0.9667 - val_loss: 0.2631 - val_accuracy: 0.9143\n",
            "Epoch 68/100\n",
            "1/1 [==============================] - 0s 35ms/step - loss: 0.0700 - accuracy: 0.9667 - val_loss: 0.2627 - val_accuracy: 0.9143\n",
            "Epoch 69/100\n",
            "1/1 [==============================] - 0s 41ms/step - loss: 0.0698 - accuracy: 0.9667 - val_loss: 0.2623 - val_accuracy: 0.9143\n",
            "Epoch 70/100\n",
            "1/1 [==============================] - 0s 31ms/step - loss: 0.0695 - accuracy: 0.9667 - val_loss: 0.2620 - val_accuracy: 0.9143\n",
            "Epoch 71/100\n",
            "1/1 [==============================] - 0s 49ms/step - loss: 0.0692 - accuracy: 0.9667 - val_loss: 0.2617 - val_accuracy: 0.9143\n",
            "Epoch 72/100\n",
            "1/1 [==============================] - 0s 32ms/step - loss: 0.0690 - accuracy: 0.9667 - val_loss: 0.2614 - val_accuracy: 0.9143\n",
            "Epoch 73/100\n",
            "1/1 [==============================] - 0s 32ms/step - loss: 0.0687 - accuracy: 0.9667 - val_loss: 0.2610 - val_accuracy: 0.9143\n",
            "Epoch 74/100\n",
            "1/1 [==============================] - 0s 36ms/step - loss: 0.0685 - accuracy: 0.9667 - val_loss: 0.2605 - val_accuracy: 0.9143\n",
            "Epoch 75/100\n",
            "1/1 [==============================] - 0s 33ms/step - loss: 0.0682 - accuracy: 0.9667 - val_loss: 0.2600 - val_accuracy: 0.9286\n",
            "Epoch 76/100\n",
            "1/1 [==============================] - 0s 51ms/step - loss: 0.0680 - accuracy: 0.9667 - val_loss: 0.2596 - val_accuracy: 0.9286\n",
            "Epoch 77/100\n",
            "1/1 [==============================] - 0s 51ms/step - loss: 0.0678 - accuracy: 0.9667 - val_loss: 0.2592 - val_accuracy: 0.9286\n",
            "Epoch 78/100\n",
            "1/1 [==============================] - 0s 49ms/step - loss: 0.0675 - accuracy: 0.9667 - val_loss: 0.2589 - val_accuracy: 0.9286\n",
            "Epoch 79/100\n",
            "1/1 [==============================] - 0s 53ms/step - loss: 0.0672 - accuracy: 0.9667 - val_loss: 0.2586 - val_accuracy: 0.9286\n",
            "Epoch 80/100\n",
            "1/1 [==============================] - 0s 32ms/step - loss: 0.0670 - accuracy: 0.9667 - val_loss: 0.2582 - val_accuracy: 0.9286\n",
            "Epoch 81/100\n",
            "1/1 [==============================] - 0s 36ms/step - loss: 0.0668 - accuracy: 0.9667 - val_loss: 0.2578 - val_accuracy: 0.9286\n",
            "Epoch 82/100\n",
            "1/1 [==============================] - 0s 43ms/step - loss: 0.0665 - accuracy: 0.9667 - val_loss: 0.2573 - val_accuracy: 0.9286\n",
            "Epoch 83/100\n",
            "1/1 [==============================] - 0s 52ms/step - loss: 0.0662 - accuracy: 0.9667 - val_loss: 0.2569 - val_accuracy: 0.9286\n",
            "Epoch 84/100\n",
            "1/1 [==============================] - 0s 55ms/step - loss: 0.0660 - accuracy: 0.9667 - val_loss: 0.2565 - val_accuracy: 0.9286\n",
            "Epoch 85/100\n",
            "1/1 [==============================] - 0s 33ms/step - loss: 0.0658 - accuracy: 0.9667 - val_loss: 0.2562 - val_accuracy: 0.9286\n",
            "Epoch 86/100\n",
            "1/1 [==============================] - 0s 52ms/step - loss: 0.0655 - accuracy: 0.9667 - val_loss: 0.2559 - val_accuracy: 0.9286\n",
            "Epoch 87/100\n",
            "1/1 [==============================] - 0s 47ms/step - loss: 0.0653 - accuracy: 0.9667 - val_loss: 0.2555 - val_accuracy: 0.9286\n",
            "Epoch 88/100\n",
            "1/1 [==============================] - 0s 31ms/step - loss: 0.0650 - accuracy: 0.9667 - val_loss: 0.2550 - val_accuracy: 0.9286\n",
            "Epoch 89/100\n",
            "1/1 [==============================] - 0s 32ms/step - loss: 0.0648 - accuracy: 0.9667 - val_loss: 0.2546 - val_accuracy: 0.9286\n",
            "Epoch 90/100\n",
            "1/1 [==============================] - 0s 30ms/step - loss: 0.0645 - accuracy: 0.9667 - val_loss: 0.2542 - val_accuracy: 0.9286\n",
            "Epoch 91/100\n",
            "1/1 [==============================] - 0s 48ms/step - loss: 0.0643 - accuracy: 0.9667 - val_loss: 0.2538 - val_accuracy: 0.9286\n",
            "Epoch 92/100\n",
            "1/1 [==============================] - 0s 49ms/step - loss: 0.0640 - accuracy: 0.9667 - val_loss: 0.2535 - val_accuracy: 0.9286\n",
            "Epoch 93/100\n",
            "1/1 [==============================] - 0s 31ms/step - loss: 0.0638 - accuracy: 0.9667 - val_loss: 0.2532 - val_accuracy: 0.9286\n",
            "Epoch 94/100\n",
            "1/1 [==============================] - 0s 33ms/step - loss: 0.0636 - accuracy: 0.9667 - val_loss: 0.2530 - val_accuracy: 0.9286\n",
            "Epoch 95/100\n",
            "1/1 [==============================] - 0s 50ms/step - loss: 0.0633 - accuracy: 0.9667 - val_loss: 0.2526 - val_accuracy: 0.9286\n",
            "Epoch 96/100\n",
            "1/1 [==============================] - 0s 51ms/step - loss: 0.0631 - accuracy: 0.9667 - val_loss: 0.2522 - val_accuracy: 0.9286\n",
            "Epoch 97/100\n",
            "1/1 [==============================] - 0s 38ms/step - loss: 0.0628 - accuracy: 0.9667 - val_loss: 0.2517 - val_accuracy: 0.9286\n",
            "Epoch 98/100\n",
            "1/1 [==============================] - 0s 37ms/step - loss: 0.0626 - accuracy: 0.9667 - val_loss: 0.2514 - val_accuracy: 0.9286\n",
            "Epoch 99/100\n",
            "1/1 [==============================] - 0s 48ms/step - loss: 0.0623 - accuracy: 0.9667 - val_loss: 0.2510 - val_accuracy: 0.9286\n",
            "Epoch 100/100\n",
            "1/1 [==============================] - 0s 37ms/step - loss: 0.0621 - accuracy: 0.9667 - val_loss: 0.2507 - val_accuracy: 0.9286\n"
          ]
        }
      ]
    },
    {
      "cell_type": "code",
      "source": [
        "pyplot.plot(history.history['accuracy'],label='train')\n",
        "pyplot.plot(history.history['val_accuracy'],label='test')\n",
        "pyplot.legend()\n",
        "pyplot.show()"
      ],
      "metadata": {
        "colab": {
          "base_uri": "https://localhost:8080/",
          "height": 268
        },
        "id": "9D38b5nkYr1Z",
        "outputId": "3731ab91-cde1-40c8-8074-e4bd87b5dc3b"
      },
      "execution_count": 8,
      "outputs": [
        {
          "output_type": "display_data",
          "data": {
            "text/plain": [
              "<Figure size 432x288 with 1 Axes>"
            ],
            "image/png": "[encoded data removed]"
          },
          "metadata": {
            "needs_background": "light"
          }
        }
      ]
    },
    {
      "cell_type": "code",
      "source": [
        "# After 75 epochs it started overfitting by giving same validation accuracy on the test data, so let us use regularization technique "
      ],
      "metadata": {
        "id": "vON0XO90Y4Di"
      },
      "execution_count": 9,
      "outputs": []
    },
    {
      "cell_type": "code",
      "source": [
        "from keras.regularizers import l2"
      ],
      "metadata": {
        "id": "-0NAnp3aZnpJ"
      },
      "execution_count": 10,
      "outputs": []
    },
    {
      "cell_type": "code",
      "source": [
        "model=Sequential()\n",
        "model.add(Dense(500,input_dim=2,activation='relu',kernel_regularizer=l2(0.001)))\n",
        "model.add(Dense(1,activation='sigmoid'))"
      ],
      "metadata": {
        "id": "_OS3Zqh8ZoaK"
      },
      "execution_count": 12,
      "outputs": []
    },
    {
      "cell_type": "code",
      "source": [
        "model.summary()"
      ],
      "metadata": {
        "colab": {
          "base_uri": "https://localhost:8080/"
        },
        "id": "wsAeoUqMZrOR",
        "outputId": "8919a6d8-a3b9-4867-d2e1-4773f719162a"
      },
      "execution_count": 13,
      "outputs": [
        {
          "output_type": "stream",
          "name": "stdout",
          "text": [
            "Model: \"sequential_1\"\n",
            "_________________________________________________________________\n",
            " Layer (type)                Output Shape              Param #   \n",
            "=================================================================\n",
            " dense_2 (Dense)             (None, 500)               1500      \n",
            "                                                                 \n",
            " dense_3 (Dense)             (None, 1)                 501       \n",
            "                                                                 \n",
            "=================================================================\n",
            "Total params: 2,001\n",
            "Trainable params: 2,001\n",
            "Non-trainable params: 0\n",
            "_________________________________________________________________\n"
          ]
        }
      ]
    },
    {
      "cell_type": "code",
      "source": [
        "model.compile(loss='binary_crossentropy',optimizer='adam',metrics=['accuracy'])"
      ],
      "metadata": {
        "id": "v8Oe5nbyZvVO"
      },
      "execution_count": 14,
      "outputs": []
    },
    {
      "cell_type": "code",
      "source": [
        "history=model.fit(trainX,trainY,validation_data=(testX,testY),epochs=100)\n"
      ],
      "metadata": {
        "colab": {
          "base_uri": "https://localhost:8080/"
        },
        "id": "aS0Aty_QaDyJ",
        "outputId": "09c5fbb8-37c6-4b6c-8557-727d101312c9"
      },
      "execution_count": 15,
      "outputs": [
        {
          "output_type": "stream",
          "name": "stdout",
          "text": [
            "Epoch 1/100\n",
            "1/1 [==============================] - 1s 1s/step - loss: 0.6859 - accuracy: 0.7000 - val_loss: 0.6863 - val_accuracy: 0.6000\n",
            "Epoch 2/100\n",
            "1/1 [==============================] - 0s 55ms/step - loss: 0.6699 - accuracy: 0.8000 - val_loss: 0.6759 - val_accuracy: 0.6571\n",
            "Epoch 3/100\n",
            "1/1 [==============================] - 0s 46ms/step - loss: 0.6543 - accuracy: 0.8333 - val_loss: 0.6659 - val_accuracy: 0.6714\n",
            "Epoch 4/100\n",
            "1/1 [==============================] - 0s 33ms/step - loss: 0.6391 - accuracy: 0.8333 - val_loss: 0.6563 - val_accuracy: 0.6714\n",
            "Epoch 5/100\n",
            "1/1 [==============================] - 0s 42ms/step - loss: 0.6244 - accuracy: 0.8333 - val_loss: 0.6470 - val_accuracy: 0.6714\n",
            "Epoch 6/100\n",
            "1/1 [==============================] - 0s 33ms/step - loss: 0.6101 - accuracy: 0.8667 - val_loss: 0.6381 - val_accuracy: 0.6857\n",
            "Epoch 7/100\n",
            "1/1 [==============================] - 0s 35ms/step - loss: 0.5961 - accuracy: 0.8667 - val_loss: 0.6295 - val_accuracy: 0.6857\n",
            "Epoch 8/100\n",
            "1/1 [==============================] - 0s 50ms/step - loss: 0.5826 - accuracy: 0.8667 - val_loss: 0.6213 - val_accuracy: 0.7143\n",
            "Epoch 9/100\n",
            "1/1 [==============================] - 0s 40ms/step - loss: 0.5694 - accuracy: 0.8667 - val_loss: 0.6133 - val_accuracy: 0.7143\n",
            "Epoch 10/100\n",
            "1/1 [==============================] - 0s 33ms/step - loss: 0.5566 - accuracy: 0.8667 - val_loss: 0.6057 - val_accuracy: 0.7143\n",
            "Epoch 11/100\n",
            "1/1 [==============================] - 0s 34ms/step - loss: 0.5441 - accuracy: 0.8667 - val_loss: 0.5984 - val_accuracy: 0.7143\n",
            "Epoch 12/100\n",
            "1/1 [==============================] - 0s 30ms/step - loss: 0.5319 - accuracy: 0.8667 - val_loss: 0.5914 - val_accuracy: 0.7143\n",
            "Epoch 13/100\n",
            "1/1 [==============================] - 0s 31ms/step - loss: 0.5201 - accuracy: 0.8667 - val_loss: 0.5846 - val_accuracy: 0.7143\n",
            "Epoch 14/100\n",
            "1/1 [==============================] - 0s 60ms/step - loss: 0.5087 - accuracy: 0.8667 - val_loss: 0.5782 - val_accuracy: 0.7143\n",
            "Epoch 15/100\n",
            "1/1 [==============================] - 0s 42ms/step - loss: 0.4976 - accuracy: 0.8667 - val_loss: 0.5720 - val_accuracy: 0.7143\n",
            "Epoch 16/100\n",
            "1/1 [==============================] - 0s 54ms/step - loss: 0.4868 - accuracy: 0.8667 - val_loss: 0.5661 - val_accuracy: 0.7143\n",
            "Epoch 17/100\n",
            "1/1 [==============================] - 0s 33ms/step - loss: 0.4763 - accuracy: 0.8667 - val_loss: 0.5604 - val_accuracy: 0.7143\n",
            "Epoch 18/100\n",
            "1/1 [==============================] - 0s 31ms/step - loss: 0.4661 - accuracy: 0.8667 - val_loss: 0.5550 - val_accuracy: 0.7143\n",
            "Epoch 19/100\n",
            "1/1 [==============================] - 0s 35ms/step - loss: 0.4563 - accuracy: 0.8667 - val_loss: 0.5499 - val_accuracy: 0.7143\n",
            "Epoch 20/100\n",
            "1/1 [==============================] - 0s 52ms/step - loss: 0.4467 - accuracy: 0.8667 - val_loss: 0.5450 - val_accuracy: 0.7143\n",
            "Epoch 21/100\n",
            "1/1 [==============================] - 0s 32ms/step - loss: 0.4374 - accuracy: 0.8667 - val_loss: 0.5403 - val_accuracy: 0.7143\n",
            "Epoch 22/100\n",
            "1/1 [==============================] - 0s 49ms/step - loss: 0.4285 - accuracy: 0.8667 - val_loss: 0.5359 - val_accuracy: 0.7143\n",
            "Epoch 23/100\n",
            "1/1 [==============================] - 0s 33ms/step - loss: 0.4198 - accuracy: 0.8667 - val_loss: 0.5316 - val_accuracy: 0.7143\n",
            "Epoch 24/100\n",
            "1/1 [==============================] - 0s 35ms/step - loss: 0.4114 - accuracy: 0.8667 - val_loss: 0.5275 - val_accuracy: 0.7143\n",
            "Epoch 25/100\n",
            "1/1 [==============================] - 0s 36ms/step - loss: 0.4032 - accuracy: 0.8667 - val_loss: 0.5237 - val_accuracy: 0.7143\n",
            "Epoch 26/100\n",
            "1/1 [==============================] - 0s 32ms/step - loss: 0.3953 - accuracy: 0.8667 - val_loss: 0.5200 - val_accuracy: 0.7143\n",
            "Epoch 27/100\n",
            "1/1 [==============================] - 0s 33ms/step - loss: 0.3876 - accuracy: 0.8667 - val_loss: 0.5165 - val_accuracy: 0.7143\n",
            "Epoch 28/100\n",
            "1/1 [==============================] - 0s 30ms/step - loss: 0.3802 - accuracy: 0.8667 - val_loss: 0.5132 - val_accuracy: 0.7143\n",
            "Epoch 29/100\n",
            "1/1 [==============================] - 0s 41ms/step - loss: 0.3731 - accuracy: 0.8667 - val_loss: 0.5101 - val_accuracy: 0.7143\n",
            "Epoch 30/100\n",
            "1/1 [==============================] - 0s 31ms/step - loss: 0.3662 - accuracy: 0.8667 - val_loss: 0.5071 - val_accuracy: 0.7143\n",
            "Epoch 31/100\n",
            "1/1 [==============================] - 0s 38ms/step - loss: 0.3596 - accuracy: 0.8667 - val_loss: 0.5042 - val_accuracy: 0.7143\n",
            "Epoch 32/100\n",
            "1/1 [==============================] - 0s 31ms/step - loss: 0.3532 - accuracy: 0.8667 - val_loss: 0.5015 - val_accuracy: 0.7143\n",
            "Epoch 33/100\n",
            "1/1 [==============================] - 0s 41ms/step - loss: 0.3470 - accuracy: 0.9000 - val_loss: 0.4990 - val_accuracy: 0.7143\n",
            "Epoch 34/100\n",
            "1/1 [==============================] - 0s 33ms/step - loss: 0.3410 - accuracy: 0.9000 - val_loss: 0.4966 - val_accuracy: 0.7286\n",
            "Epoch 35/100\n",
            "1/1 [==============================] - 0s 30ms/step - loss: 0.3353 - accuracy: 0.9000 - val_loss: 0.4943 - val_accuracy: 0.7286\n",
            "Epoch 36/100\n",
            "1/1 [==============================] - 0s 44ms/step - loss: 0.3297 - accuracy: 0.9000 - val_loss: 0.4921 - val_accuracy: 0.7286\n",
            "Epoch 37/100\n",
            "1/1 [==============================] - 0s 51ms/step - loss: 0.3244 - accuracy: 0.9000 - val_loss: 0.4900 - val_accuracy: 0.7286\n",
            "Epoch 38/100\n",
            "1/1 [==============================] - 0s 32ms/step - loss: 0.3192 - accuracy: 0.9000 - val_loss: 0.4880 - val_accuracy: 0.7286\n",
            "Epoch 39/100\n",
            "1/1 [==============================] - 0s 34ms/step - loss: 0.3143 - accuracy: 0.9000 - val_loss: 0.4861 - val_accuracy: 0.7286\n",
            "Epoch 40/100\n",
            "1/1 [==============================] - 0s 31ms/step - loss: 0.3095 - accuracy: 0.9000 - val_loss: 0.4844 - val_accuracy: 0.7286\n",
            "Epoch 41/100\n",
            "1/1 [==============================] - 0s 48ms/step - loss: 0.3049 - accuracy: 0.9000 - val_loss: 0.4827 - val_accuracy: 0.7286\n",
            "Epoch 42/100\n",
            "1/1 [==============================] - 0s 33ms/step - loss: 0.3005 - accuracy: 0.9000 - val_loss: 0.4811 - val_accuracy: 0.7286\n",
            "Epoch 43/100\n",
            "1/1 [==============================] - 0s 31ms/step - loss: 0.2962 - accuracy: 0.9000 - val_loss: 0.4796 - val_accuracy: 0.7286\n",
            "Epoch 44/100\n",
            "1/1 [==============================] - 0s 52ms/step - loss: 0.2921 - accuracy: 0.9000 - val_loss: 0.4782 - val_accuracy: 0.7286\n",
            "Epoch 45/100\n",
            "1/1 [==============================] - 0s 31ms/step - loss: 0.2882 - accuracy: 0.9000 - val_loss: 0.4768 - val_accuracy: 0.7286\n",
            "Epoch 46/100\n",
            "1/1 [==============================] - 0s 31ms/step - loss: 0.2844 - accuracy: 0.9000 - val_loss: 0.4755 - val_accuracy: 0.7286\n",
            "Epoch 47/100\n",
            "1/1 [==============================] - 0s 32ms/step - loss: 0.2808 - accuracy: 0.9000 - val_loss: 0.4743 - val_accuracy: 0.7286\n",
            "Epoch 48/100\n",
            "1/1 [==============================] - 0s 50ms/step - loss: 0.2774 - accuracy: 0.9333 - val_loss: 0.4731 - val_accuracy: 0.7286\n",
            "Epoch 49/100\n",
            "1/1 [==============================] - 0s 55ms/step - loss: 0.2740 - accuracy: 0.9333 - val_loss: 0.4720 - val_accuracy: 0.7286\n",
            "Epoch 50/100\n",
            "1/1 [==============================] - 0s 38ms/step - loss: 0.2708 - accuracy: 0.9333 - val_loss: 0.4709 - val_accuracy: 0.7286\n",
            "Epoch 51/100\n",
            "1/1 [==============================] - 0s 34ms/step - loss: 0.2678 - accuracy: 0.9333 - val_loss: 0.4698 - val_accuracy: 0.7286\n",
            "Epoch 52/100\n",
            "1/1 [==============================] - 0s 55ms/step - loss: 0.2648 - accuracy: 0.9000 - val_loss: 0.4688 - val_accuracy: 0.7286\n",
            "Epoch 53/100\n",
            "1/1 [==============================] - 0s 33ms/step - loss: 0.2619 - accuracy: 0.9000 - val_loss: 0.4679 - val_accuracy: 0.7286\n",
            "Epoch 54/100\n",
            "1/1 [==============================] - 0s 35ms/step - loss: 0.2592 - accuracy: 0.9000 - val_loss: 0.4669 - val_accuracy: 0.7286\n",
            "Epoch 55/100\n",
            "1/1 [==============================] - 0s 48ms/step - loss: 0.2565 - accuracy: 0.9000 - val_loss: 0.4660 - val_accuracy: 0.7286\n",
            "Epoch 56/100\n",
            "1/1 [==============================] - 0s 32ms/step - loss: 0.2540 - accuracy: 0.9000 - val_loss: 0.4651 - val_accuracy: 0.7286\n",
            "Epoch 57/100\n",
            "1/1 [==============================] - 0s 42ms/step - loss: 0.2515 - accuracy: 0.9000 - val_loss: 0.4642 - val_accuracy: 0.7286\n",
            "Epoch 58/100\n",
            "1/1 [==============================] - 0s 34ms/step - loss: 0.2491 - accuracy: 0.9000 - val_loss: 0.4633 - val_accuracy: 0.7286\n",
            "Epoch 59/100\n",
            "1/1 [==============================] - 0s 31ms/step - loss: 0.2468 - accuracy: 0.9000 - val_loss: 0.4624 - val_accuracy: 0.7286\n",
            "Epoch 60/100\n",
            "1/1 [==============================] - 0s 35ms/step - loss: 0.2446 - accuracy: 0.9000 - val_loss: 0.4616 - val_accuracy: 0.7286\n",
            "Epoch 61/100\n",
            "1/1 [==============================] - 0s 31ms/step - loss: 0.2425 - accuracy: 0.9000 - val_loss: 0.4607 - val_accuracy: 0.7286\n",
            "Epoch 62/100\n",
            "1/1 [==============================] - 0s 31ms/step - loss: 0.2404 - accuracy: 0.9000 - val_loss: 0.4599 - val_accuracy: 0.7286\n",
            "Epoch 63/100\n",
            "1/1 [==============================] - 0s 33ms/step - loss: 0.2384 - accuracy: 0.9000 - val_loss: 0.4591 - val_accuracy: 0.7286\n",
            "Epoch 64/100\n",
            "1/1 [==============================] - 0s 33ms/step - loss: 0.2365 - accuracy: 0.9000 - val_loss: 0.4583 - val_accuracy: 0.7286\n",
            "Epoch 65/100\n",
            "1/1 [==============================] - 0s 37ms/step - loss: 0.2346 - accuracy: 0.9000 - val_loss: 0.4575 - val_accuracy: 0.7286\n",
            "Epoch 66/100\n",
            "1/1 [==============================] - 0s 35ms/step - loss: 0.2328 - accuracy: 0.9000 - val_loss: 0.4567 - val_accuracy: 0.7429\n",
            "Epoch 67/100\n",
            "1/1 [==============================] - 0s 36ms/step - loss: 0.2311 - accuracy: 0.9000 - val_loss: 0.4559 - val_accuracy: 0.7429\n",
            "Epoch 68/100\n",
            "1/1 [==============================] - 0s 34ms/step - loss: 0.2294 - accuracy: 0.9000 - val_loss: 0.4551 - val_accuracy: 0.7429\n",
            "Epoch 69/100\n",
            "1/1 [==============================] - 0s 35ms/step - loss: 0.2278 - accuracy: 0.9000 - val_loss: 0.4544 - val_accuracy: 0.7429\n",
            "Epoch 70/100\n",
            "1/1 [==============================] - 0s 34ms/step - loss: 0.2263 - accuracy: 0.9000 - val_loss: 0.4536 - val_accuracy: 0.7429\n",
            "Epoch 71/100\n",
            "1/1 [==============================] - 0s 36ms/step - loss: 0.2248 - accuracy: 0.9000 - val_loss: 0.4529 - val_accuracy: 0.7429\n",
            "Epoch 72/100\n",
            "1/1 [==============================] - 0s 33ms/step - loss: 0.2233 - accuracy: 0.9000 - val_loss: 0.4521 - val_accuracy: 0.7429\n",
            "Epoch 73/100\n",
            "1/1 [==============================] - 0s 52ms/step - loss: 0.2219 - accuracy: 0.9000 - val_loss: 0.4514 - val_accuracy: 0.7429\n",
            "Epoch 74/100\n",
            "1/1 [==============================] - 0s 35ms/step - loss: 0.2205 - accuracy: 0.9000 - val_loss: 0.4507 - val_accuracy: 0.7429\n",
            "Epoch 75/100\n",
            "1/1 [==============================] - 0s 35ms/step - loss: 0.2192 - accuracy: 0.9000 - val_loss: 0.4499 - val_accuracy: 0.7429\n",
            "Epoch 76/100\n",
            "1/1 [==============================] - 0s 35ms/step - loss: 0.2180 - accuracy: 0.9000 - val_loss: 0.4492 - val_accuracy: 0.7429\n",
            "Epoch 77/100\n",
            "1/1 [==============================] - 0s 34ms/step - loss: 0.2167 - accuracy: 0.9000 - val_loss: 0.4485 - val_accuracy: 0.7429\n",
            "Epoch 78/100\n",
            "1/1 [==============================] - 0s 38ms/step - loss: 0.2155 - accuracy: 0.9000 - val_loss: 0.4477 - val_accuracy: 0.7429\n",
            "Epoch 79/100\n",
            "1/1 [==============================] - 0s 36ms/step - loss: 0.2144 - accuracy: 0.9000 - val_loss: 0.4470 - val_accuracy: 0.7429\n",
            "Epoch 80/100\n",
            "1/1 [==============================] - 0s 36ms/step - loss: 0.2133 - accuracy: 0.9000 - val_loss: 0.4462 - val_accuracy: 0.7429\n",
            "Epoch 81/100\n",
            "1/1 [==============================] - 0s 33ms/step - loss: 0.2122 - accuracy: 0.9000 - val_loss: 0.4455 - val_accuracy: 0.7429\n",
            "Epoch 82/100\n",
            "1/1 [==============================] - 0s 43ms/step - loss: 0.2111 - accuracy: 0.9000 - val_loss: 0.4447 - val_accuracy: 0.7429\n",
            "Epoch 83/100\n",
            "1/1 [==============================] - 0s 50ms/step - loss: 0.2101 - accuracy: 0.9000 - val_loss: 0.4439 - val_accuracy: 0.7429\n",
            "Epoch 84/100\n",
            "1/1 [==============================] - 0s 40ms/step - loss: 0.2091 - accuracy: 0.9000 - val_loss: 0.4431 - val_accuracy: 0.7429\n",
            "Epoch 85/100\n",
            "1/1 [==============================] - 0s 34ms/step - loss: 0.2081 - accuracy: 0.9000 - val_loss: 0.4423 - val_accuracy: 0.7429\n",
            "Epoch 86/100\n",
            "1/1 [==============================] - 0s 56ms/step - loss: 0.2072 - accuracy: 0.9000 - val_loss: 0.4415 - val_accuracy: 0.7429\n",
            "Epoch 87/100\n",
            "1/1 [==============================] - 0s 34ms/step - loss: 0.2062 - accuracy: 0.9000 - val_loss: 0.4407 - val_accuracy: 0.7429\n",
            "Epoch 88/100\n",
            "1/1 [==============================] - 0s 35ms/step - loss: 0.2053 - accuracy: 0.9000 - val_loss: 0.4398 - val_accuracy: 0.7429\n",
            "Epoch 89/100\n",
            "1/1 [==============================] - 0s 37ms/step - loss: 0.2044 - accuracy: 0.9000 - val_loss: 0.4390 - val_accuracy: 0.7429\n",
            "Epoch 90/100\n",
            "1/1 [==============================] - 0s 35ms/step - loss: 0.2036 - accuracy: 0.9000 - val_loss: 0.4382 - val_accuracy: 0.7429\n",
            "Epoch 91/100\n",
            "1/1 [==============================] - 0s 34ms/step - loss: 0.2027 - accuracy: 0.9000 - val_loss: 0.4373 - val_accuracy: 0.7429\n",
            "Epoch 92/100\n",
            "1/1 [==============================] - 0s 34ms/step - loss: 0.2019 - accuracy: 0.9000 - val_loss: 0.4364 - val_accuracy: 0.7429\n",
            "Epoch 93/100\n",
            "1/1 [==============================] - 0s 32ms/step - loss: 0.2010 - accuracy: 0.9000 - val_loss: 0.4356 - val_accuracy: 0.7429\n",
            "Epoch 94/100\n",
            "1/1 [==============================] - 0s 33ms/step - loss: 0.2002 - accuracy: 0.9000 - val_loss: 0.4347 - val_accuracy: 0.7429\n",
            "Epoch 95/100\n",
            "1/1 [==============================] - 0s 36ms/step - loss: 0.1995 - accuracy: 0.9000 - val_loss: 0.4339 - val_accuracy: 0.7429\n",
            "Epoch 96/100\n",
            "1/1 [==============================] - 0s 40ms/step - loss: 0.1987 - accuracy: 0.9000 - val_loss: 0.4331 - val_accuracy: 0.7429\n",
            "Epoch 97/100\n",
            "1/1 [==============================] - 0s 33ms/step - loss: 0.1979 - accuracy: 0.9000 - val_loss: 0.4322 - val_accuracy: 0.7429\n",
            "Epoch 98/100\n",
            "1/1 [==============================] - 0s 50ms/step - loss: 0.1972 - accuracy: 0.9000 - val_loss: 0.4314 - val_accuracy: 0.7429\n",
            "Epoch 99/100\n",
            "1/1 [==============================] - 0s 36ms/step - loss: 0.1964 - accuracy: 0.9000 - val_loss: 0.4305 - val_accuracy: 0.7429\n",
            "Epoch 100/100\n",
            "1/1 [==============================] - 0s 34ms/step - loss: 0.1957 - accuracy: 0.9000 - val_loss: 0.4297 - val_accuracy: 0.7429\n"
          ]
        }
      ]
    },
    {
      "cell_type": "code",
      "source": [
        "pyplot.plot(history.history['accuracy'],label='train')\n",
        "pyplot.plot(history.history['val_accuracy'],label='test')\n",
        "pyplot.legend()\n",
        "pyplot.show()"
      ],
      "metadata": {
        "colab": {
          "base_uri": "https://localhost:8080/",
          "height": 269
        },
        "id": "zNGJKQbUaFaR",
        "outputId": "da6d90ef-1142-423f-a951-e5d8de3232b1"
      },
      "execution_count": 16,
      "outputs": [
        {
          "output_type": "display_data",
          "data": {
            "text/plain": [
              "<Figure size 432x288 with 1 Axes>"
            ],
            "image/png": "[encoded data removed]"
          },
          "metadata": {
            "needs_background": "light"
          }
        }
      ]
    },
    {
      "cell_type": "markdown",
      "source": [
        "Lets apply l1 and l2 together to the model using below code"
      ],
      "metadata": {
        "id": "1Xy42kAGaeMR"
      }
    },
    {
      "cell_type": "code",
      "source": [
        "from keras.regularizers import l1_l2"
      ],
      "metadata": {
        "id": "YIQT9SzkaJky"
      },
      "execution_count": 18,
      "outputs": []
    },
    {
      "cell_type": "code",
      "source": [
        "model=Sequential()\n",
        "model.add(Dense(500,input_dim=2,activation='relu',kernel_regularizer=l1_l2(l1=0.001,l2=0.001)))\n",
        "model.add(Dense(1,activation='sigmoid'))\n",
        "model.compile(loss='binary_crossentropy',optimizer='adam',metrics=['accuracy'])\n"
      ],
      "metadata": {
        "id": "5tpBFd2caYtV"
      },
      "execution_count": 19,
      "outputs": []
    },
    {
      "cell_type": "code",
      "source": [
        "model.summary()"
      ],
      "metadata": {
        "colab": {
          "base_uri": "https://localhost:8080/"
        },
        "id": "CCb2pjLWaxaJ",
        "outputId": "a6da2e61-0061-41aa-db1e-94cd62e10602"
      },
      "execution_count": 20,
      "outputs": [
        {
          "output_type": "stream",
          "name": "stdout",
          "text": [
            "Model: \"sequential_2\"\n",
            "_________________________________________________________________\n",
            " Layer (type)                Output Shape              Param #   \n",
            "=================================================================\n",
            " dense_4 (Dense)             (None, 500)               1500      \n",
            "                                                                 \n",
            " dense_5 (Dense)             (None, 1)                 501       \n",
            "                                                                 \n",
            "=================================================================\n",
            "Total params: 2,001\n",
            "Trainable params: 2,001\n",
            "Non-trainable params: 0\n",
            "_________________________________________________________________\n"
          ]
        }
      ]
    },
    {
      "cell_type": "code",
      "source": [
        "history=model.fit(trainX,trainY,validation_data=(testX,testY),epochs=100)\n"
      ],
      "metadata": {
        "colab": {
          "base_uri": "https://localhost:8080/"
        },
        "id": "56Tgqz40avxT",
        "outputId": "e30fe524-6963-4d5a-ab44-1384248636c0"
      },
      "execution_count": 21,
      "outputs": [
        {
          "output_type": "stream",
          "name": "stdout",
          "text": [
            "Epoch 1/100\n",
            "1/1 [==============================] - 1s 1s/step - loss: 0.7129 - accuracy: 0.8000 - val_loss: 0.7222 - val_accuracy: 0.6286\n",
            "Epoch 2/100\n",
            "1/1 [==============================] - 0s 65ms/step - loss: 0.6977 - accuracy: 0.8667 - val_loss: 0.7126 - val_accuracy: 0.6429\n",
            "Epoch 3/100\n",
            "1/1 [==============================] - 0s 49ms/step - loss: 0.6830 - accuracy: 0.8667 - val_loss: 0.7034 - val_accuracy: 0.6571\n",
            "Epoch 4/100\n",
            "1/1 [==============================] - 0s 60ms/step - loss: 0.6686 - accuracy: 0.8667 - val_loss: 0.6945 - val_accuracy: 0.6857\n",
            "Epoch 5/100\n",
            "1/1 [==============================] - 0s 31ms/step - loss: 0.6547 - accuracy: 0.8333 - val_loss: 0.6860 - val_accuracy: 0.6857\n",
            "Epoch 6/100\n",
            "1/1 [==============================] - 0s 33ms/step - loss: 0.6412 - accuracy: 0.8333 - val_loss: 0.6778 - val_accuracy: 0.6857\n",
            "Epoch 7/100\n",
            "1/1 [==============================] - 0s 64ms/step - loss: 0.6280 - accuracy: 0.8333 - val_loss: 0.6700 - val_accuracy: 0.6857\n",
            "Epoch 8/100\n",
            "1/1 [==============================] - 0s 32ms/step - loss: 0.6152 - accuracy: 0.8333 - val_loss: 0.6625 - val_accuracy: 0.6857\n",
            "Epoch 9/100\n",
            "1/1 [==============================] - 0s 34ms/step - loss: 0.6029 - accuracy: 0.8333 - val_loss: 0.6553 - val_accuracy: 0.6857\n",
            "Epoch 10/100\n",
            "1/1 [==============================] - 0s 35ms/step - loss: 0.5909 - accuracy: 0.8333 - val_loss: 0.6485 - val_accuracy: 0.6857\n",
            "Epoch 11/100\n",
            "1/1 [==============================] - 0s 51ms/step - loss: 0.5793 - accuracy: 0.8333 - val_loss: 0.6419 - val_accuracy: 0.6857\n",
            "Epoch 12/100\n",
            "1/1 [==============================] - 0s 38ms/step - loss: 0.5680 - accuracy: 0.8333 - val_loss: 0.6356 - val_accuracy: 0.6857\n",
            "Epoch 13/100\n",
            "1/1 [==============================] - 0s 31ms/step - loss: 0.5570 - accuracy: 0.8667 - val_loss: 0.6297 - val_accuracy: 0.6857\n",
            "Epoch 14/100\n",
            "1/1 [==============================] - 0s 51ms/step - loss: 0.5464 - accuracy: 0.8667 - val_loss: 0.6240 - val_accuracy: 0.6857\n",
            "Epoch 15/100\n",
            "1/1 [==============================] - 0s 48ms/step - loss: 0.5361 - accuracy: 0.8667 - val_loss: 0.6185 - val_accuracy: 0.7000\n",
            "Epoch 16/100\n",
            "1/1 [==============================] - 0s 52ms/step - loss: 0.5261 - accuracy: 0.8667 - val_loss: 0.6133 - val_accuracy: 0.7143\n",
            "Epoch 17/100\n",
            "1/1 [==============================] - 0s 41ms/step - loss: 0.5163 - accuracy: 0.8667 - val_loss: 0.6084 - val_accuracy: 0.7143\n",
            "Epoch 18/100\n",
            "1/1 [==============================] - 0s 32ms/step - loss: 0.5069 - accuracy: 0.8667 - val_loss: 0.6037 - val_accuracy: 0.7143\n",
            "Epoch 19/100\n",
            "1/1 [==============================] - 0s 36ms/step - loss: 0.4978 - accuracy: 0.8667 - val_loss: 0.5992 - val_accuracy: 0.7143\n",
            "Epoch 20/100\n",
            "1/1 [==============================] - 0s 32ms/step - loss: 0.4890 - accuracy: 0.8667 - val_loss: 0.5949 - val_accuracy: 0.7143\n",
            "Epoch 21/100\n",
            "1/1 [==============================] - 0s 49ms/step - loss: 0.4804 - accuracy: 0.8667 - val_loss: 0.5908 - val_accuracy: 0.7143\n",
            "Epoch 22/100\n",
            "1/1 [==============================] - 0s 31ms/step - loss: 0.4721 - accuracy: 0.8667 - val_loss: 0.5870 - val_accuracy: 0.7143\n",
            "Epoch 23/100\n",
            "1/1 [==============================] - 0s 31ms/step - loss: 0.4641 - accuracy: 0.8667 - val_loss: 0.5833 - val_accuracy: 0.7143\n",
            "Epoch 24/100\n",
            "1/1 [==============================] - 0s 33ms/step - loss: 0.4564 - accuracy: 0.8667 - val_loss: 0.5799 - val_accuracy: 0.7143\n",
            "Epoch 25/100\n",
            "1/1 [==============================] - 0s 51ms/step - loss: 0.4489 - accuracy: 0.8667 - val_loss: 0.5766 - val_accuracy: 0.7143\n",
            "Epoch 26/100\n",
            "1/1 [==============================] - 0s 35ms/step - loss: 0.4417 - accuracy: 0.8667 - val_loss: 0.5735 - val_accuracy: 0.7143\n",
            "Epoch 27/100\n",
            "1/1 [==============================] - 0s 32ms/step - loss: 0.4347 - accuracy: 0.8667 - val_loss: 0.5706 - val_accuracy: 0.7143\n",
            "Epoch 28/100\n",
            "1/1 [==============================] - 0s 33ms/step - loss: 0.4279 - accuracy: 0.8667 - val_loss: 0.5678 - val_accuracy: 0.7143\n",
            "Epoch 29/100\n",
            "1/1 [==============================] - 0s 36ms/step - loss: 0.4214 - accuracy: 0.8667 - val_loss: 0.5652 - val_accuracy: 0.7143\n",
            "Epoch 30/100\n",
            "1/1 [==============================] - 0s 36ms/step - loss: 0.4151 - accuracy: 0.8667 - val_loss: 0.5627 - val_accuracy: 0.7143\n",
            "Epoch 31/100\n",
            "1/1 [==============================] - 0s 41ms/step - loss: 0.4090 - accuracy: 0.8667 - val_loss: 0.5603 - val_accuracy: 0.7143\n",
            "Epoch 32/100\n",
            "1/1 [==============================] - 0s 33ms/step - loss: 0.4031 - accuracy: 0.8667 - val_loss: 0.5581 - val_accuracy: 0.7143\n",
            "Epoch 33/100\n",
            "1/1 [==============================] - 0s 34ms/step - loss: 0.3975 - accuracy: 0.8667 - val_loss: 0.5559 - val_accuracy: 0.7143\n",
            "Epoch 34/100\n",
            "1/1 [==============================] - 0s 34ms/step - loss: 0.3920 - accuracy: 0.8667 - val_loss: 0.5539 - val_accuracy: 0.7143\n",
            "Epoch 35/100\n",
            "1/1 [==============================] - 0s 33ms/step - loss: 0.3868 - accuracy: 0.9000 - val_loss: 0.5519 - val_accuracy: 0.7143\n",
            "Epoch 36/100\n",
            "1/1 [==============================] - 0s 33ms/step - loss: 0.3817 - accuracy: 0.9000 - val_loss: 0.5501 - val_accuracy: 0.7143\n",
            "Epoch 37/100\n",
            "1/1 [==============================] - 0s 40ms/step - loss: 0.3768 - accuracy: 0.9000 - val_loss: 0.5483 - val_accuracy: 0.7286\n",
            "Epoch 38/100\n",
            "1/1 [==============================] - 0s 50ms/step - loss: 0.3721 - accuracy: 0.9000 - val_loss: 0.5465 - val_accuracy: 0.7286\n",
            "Epoch 39/100\n",
            "1/1 [==============================] - 0s 32ms/step - loss: 0.3676 - accuracy: 0.9000 - val_loss: 0.5449 - val_accuracy: 0.7286\n",
            "Epoch 40/100\n",
            "1/1 [==============================] - 0s 31ms/step - loss: 0.3632 - accuracy: 0.9000 - val_loss: 0.5432 - val_accuracy: 0.7286\n",
            "Epoch 41/100\n",
            "1/1 [==============================] - 0s 34ms/step - loss: 0.3590 - accuracy: 0.9000 - val_loss: 0.5416 - val_accuracy: 0.7286\n",
            "Epoch 42/100\n",
            "1/1 [==============================] - 0s 32ms/step - loss: 0.3550 - accuracy: 0.9000 - val_loss: 0.5401 - val_accuracy: 0.7286\n",
            "Epoch 43/100\n",
            "1/1 [==============================] - 0s 50ms/step - loss: 0.3511 - accuracy: 0.9000 - val_loss: 0.5386 - val_accuracy: 0.7286\n",
            "Epoch 44/100\n",
            "1/1 [==============================] - 0s 51ms/step - loss: 0.3474 - accuracy: 0.9000 - val_loss: 0.5372 - val_accuracy: 0.7286\n",
            "Epoch 45/100\n",
            "1/1 [==============================] - 0s 34ms/step - loss: 0.3438 - accuracy: 0.9000 - val_loss: 0.5357 - val_accuracy: 0.7286\n",
            "Epoch 46/100\n",
            "1/1 [==============================] - 0s 49ms/step - loss: 0.3403 - accuracy: 0.9000 - val_loss: 0.5343 - val_accuracy: 0.7286\n",
            "Epoch 47/100\n",
            "1/1 [==============================] - 0s 38ms/step - loss: 0.3370 - accuracy: 0.9000 - val_loss: 0.5329 - val_accuracy: 0.7286\n",
            "Epoch 48/100\n",
            "1/1 [==============================] - 0s 36ms/step - loss: 0.3338 - accuracy: 0.9000 - val_loss: 0.5315 - val_accuracy: 0.7286\n",
            "Epoch 49/100\n",
            "1/1 [==============================] - 0s 33ms/step - loss: 0.3307 - accuracy: 0.9333 - val_loss: 0.5301 - val_accuracy: 0.7286\n",
            "Epoch 50/100\n",
            "1/1 [==============================] - 0s 54ms/step - loss: 0.3278 - accuracy: 0.9333 - val_loss: 0.5287 - val_accuracy: 0.7286\n",
            "Epoch 51/100\n",
            "1/1 [==============================] - 0s 38ms/step - loss: 0.3249 - accuracy: 0.9333 - val_loss: 0.5274 - val_accuracy: 0.7286\n",
            "Epoch 52/100\n",
            "1/1 [==============================] - 0s 38ms/step - loss: 0.3222 - accuracy: 0.9333 - val_loss: 0.5260 - val_accuracy: 0.7286\n",
            "Epoch 53/100\n",
            "1/1 [==============================] - 0s 52ms/step - loss: 0.3195 - accuracy: 0.9333 - val_loss: 0.5246 - val_accuracy: 0.7286\n",
            "Epoch 54/100\n",
            "1/1 [==============================] - 0s 50ms/step - loss: 0.3170 - accuracy: 0.9000 - val_loss: 0.5233 - val_accuracy: 0.7286\n",
            "Epoch 55/100\n",
            "1/1 [==============================] - 0s 34ms/step - loss: 0.3145 - accuracy: 0.9000 - val_loss: 0.5219 - val_accuracy: 0.7286\n",
            "Epoch 56/100\n",
            "1/1 [==============================] - 0s 36ms/step - loss: 0.3121 - accuracy: 0.9000 - val_loss: 0.5205 - val_accuracy: 0.7286\n",
            "Epoch 57/100\n",
            "1/1 [==============================] - 0s 33ms/step - loss: 0.3098 - accuracy: 0.9000 - val_loss: 0.5191 - val_accuracy: 0.7286\n",
            "Epoch 58/100\n",
            "1/1 [==============================] - 0s 55ms/step - loss: 0.3076 - accuracy: 0.9000 - val_loss: 0.5177 - val_accuracy: 0.7286\n",
            "Epoch 59/100\n",
            "1/1 [==============================] - 0s 34ms/step - loss: 0.3055 - accuracy: 0.9000 - val_loss: 0.5163 - val_accuracy: 0.7286\n",
            "Epoch 60/100\n",
            "1/1 [==============================] - 0s 47ms/step - loss: 0.3034 - accuracy: 0.9000 - val_loss: 0.5149 - val_accuracy: 0.7286\n",
            "Epoch 61/100\n",
            "1/1 [==============================] - 0s 34ms/step - loss: 0.3014 - accuracy: 0.9000 - val_loss: 0.5135 - val_accuracy: 0.7286\n",
            "Epoch 62/100\n",
            "1/1 [==============================] - 0s 31ms/step - loss: 0.2994 - accuracy: 0.9000 - val_loss: 0.5122 - val_accuracy: 0.7286\n",
            "Epoch 63/100\n",
            "1/1 [==============================] - 0s 32ms/step - loss: 0.2976 - accuracy: 0.9000 - val_loss: 0.5108 - val_accuracy: 0.7429\n",
            "Epoch 64/100\n",
            "1/1 [==============================] - 0s 34ms/step - loss: 0.2958 - accuracy: 0.9000 - val_loss: 0.5094 - val_accuracy: 0.7429\n",
            "Epoch 65/100\n",
            "1/1 [==============================] - 0s 42ms/step - loss: 0.2940 - accuracy: 0.9000 - val_loss: 0.5081 - val_accuracy: 0.7429\n",
            "Epoch 66/100\n",
            "1/1 [==============================] - 0s 34ms/step - loss: 0.2923 - accuracy: 0.9000 - val_loss: 0.5067 - val_accuracy: 0.7429\n",
            "Epoch 67/100\n",
            "1/1 [==============================] - 0s 42ms/step - loss: 0.2907 - accuracy: 0.9000 - val_loss: 0.5054 - val_accuracy: 0.7429\n",
            "Epoch 68/100\n",
            "1/1 [==============================] - 0s 32ms/step - loss: 0.2891 - accuracy: 0.9000 - val_loss: 0.5041 - val_accuracy: 0.7429\n",
            "Epoch 69/100\n",
            "1/1 [==============================] - 0s 34ms/step - loss: 0.2875 - accuracy: 0.9000 - val_loss: 0.5028 - val_accuracy: 0.7429\n",
            "Epoch 70/100\n",
            "1/1 [==============================] - 0s 50ms/step - loss: 0.2860 - accuracy: 0.9000 - val_loss: 0.5015 - val_accuracy: 0.7429\n",
            "Epoch 71/100\n",
            "1/1 [==============================] - 0s 64ms/step - loss: 0.2846 - accuracy: 0.9000 - val_loss: 0.5002 - val_accuracy: 0.7429\n",
            "Epoch 72/100\n",
            "1/1 [==============================] - 0s 60ms/step - loss: 0.2832 - accuracy: 0.9000 - val_loss: 0.4989 - val_accuracy: 0.7429\n",
            "Epoch 73/100\n",
            "1/1 [==============================] - 0s 58ms/step - loss: 0.2818 - accuracy: 0.9000 - val_loss: 0.4977 - val_accuracy: 0.7429\n",
            "Epoch 74/100\n",
            "1/1 [==============================] - 0s 61ms/step - loss: 0.2805 - accuracy: 0.9000 - val_loss: 0.4964 - val_accuracy: 0.7429\n",
            "Epoch 75/100\n",
            "1/1 [==============================] - 0s 64ms/step - loss: 0.2792 - accuracy: 0.9000 - val_loss: 0.4952 - val_accuracy: 0.7429\n",
            "Epoch 76/100\n",
            "1/1 [==============================] - 0s 72ms/step - loss: 0.2780 - accuracy: 0.9000 - val_loss: 0.4940 - val_accuracy: 0.7429\n",
            "Epoch 77/100\n",
            "1/1 [==============================] - 0s 85ms/step - loss: 0.2768 - accuracy: 0.9000 - val_loss: 0.4928 - val_accuracy: 0.7429\n",
            "Epoch 78/100\n",
            "1/1 [==============================] - 0s 68ms/step - loss: 0.2756 - accuracy: 0.9000 - val_loss: 0.4916 - val_accuracy: 0.7429\n",
            "Epoch 79/100\n",
            "1/1 [==============================] - 0s 72ms/step - loss: 0.2744 - accuracy: 0.9000 - val_loss: 0.4905 - val_accuracy: 0.7429\n",
            "Epoch 80/100\n",
            "1/1 [==============================] - 0s 66ms/step - loss: 0.2733 - accuracy: 0.9000 - val_loss: 0.4894 - val_accuracy: 0.7429\n",
            "Epoch 81/100\n",
            "1/1 [==============================] - 0s 70ms/step - loss: 0.2721 - accuracy: 0.9000 - val_loss: 0.4883 - val_accuracy: 0.7429\n",
            "Epoch 82/100\n",
            "1/1 [==============================] - 0s 64ms/step - loss: 0.2710 - accuracy: 0.9000 - val_loss: 0.4872 - val_accuracy: 0.7429\n",
            "Epoch 83/100\n",
            "1/1 [==============================] - 0s 69ms/step - loss: 0.2699 - accuracy: 0.9000 - val_loss: 0.4861 - val_accuracy: 0.7429\n",
            "Epoch 84/100\n",
            "1/1 [==============================] - 0s 54ms/step - loss: 0.2689 - accuracy: 0.9000 - val_loss: 0.4850 - val_accuracy: 0.7429\n",
            "Epoch 85/100\n",
            "1/1 [==============================] - 0s 37ms/step - loss: 0.2679 - accuracy: 0.9000 - val_loss: 0.4839 - val_accuracy: 0.7429\n",
            "Epoch 86/100\n",
            "1/1 [==============================] - 0s 54ms/step - loss: 0.2668 - accuracy: 0.9000 - val_loss: 0.4829 - val_accuracy: 0.7429\n",
            "Epoch 87/100\n",
            "1/1 [==============================] - 0s 33ms/step - loss: 0.2658 - accuracy: 0.9000 - val_loss: 0.4819 - val_accuracy: 0.7429\n",
            "Epoch 88/100\n",
            "1/1 [==============================] - 0s 53ms/step - loss: 0.2648 - accuracy: 0.9000 - val_loss: 0.4808 - val_accuracy: 0.7429\n",
            "Epoch 89/100\n",
            "1/1 [==============================] - 0s 34ms/step - loss: 0.2639 - accuracy: 0.9000 - val_loss: 0.4798 - val_accuracy: 0.7429\n",
            "Epoch 90/100\n",
            "1/1 [==============================] - 0s 36ms/step - loss: 0.2629 - accuracy: 0.9000 - val_loss: 0.4788 - val_accuracy: 0.7429\n",
            "Epoch 91/100\n",
            "1/1 [==============================] - 0s 40ms/step - loss: 0.2620 - accuracy: 0.9000 - val_loss: 0.4779 - val_accuracy: 0.7429\n",
            "Epoch 92/100\n",
            "1/1 [==============================] - 0s 56ms/step - loss: 0.2610 - accuracy: 0.9000 - val_loss: 0.4769 - val_accuracy: 0.7571\n",
            "Epoch 93/100\n",
            "1/1 [==============================] - 0s 39ms/step - loss: 0.2602 - accuracy: 0.9000 - val_loss: 0.4760 - val_accuracy: 0.7571\n",
            "Epoch 94/100\n",
            "1/1 [==============================] - 0s 53ms/step - loss: 0.2593 - accuracy: 0.9000 - val_loss: 0.4751 - val_accuracy: 0.7571\n",
            "Epoch 95/100\n",
            "1/1 [==============================] - 0s 33ms/step - loss: 0.2584 - accuracy: 0.9000 - val_loss: 0.4741 - val_accuracy: 0.7571\n",
            "Epoch 96/100\n",
            "1/1 [==============================] - 0s 37ms/step - loss: 0.2576 - accuracy: 0.9000 - val_loss: 0.4732 - val_accuracy: 0.7571\n",
            "Epoch 97/100\n",
            "1/1 [==============================] - 0s 59ms/step - loss: 0.2568 - accuracy: 0.9000 - val_loss: 0.4723 - val_accuracy: 0.7571\n",
            "Epoch 98/100\n",
            "1/1 [==============================] - 0s 34ms/step - loss: 0.2560 - accuracy: 0.9000 - val_loss: 0.4714 - val_accuracy: 0.7571\n",
            "Epoch 99/100\n",
            "1/1 [==============================] - 0s 35ms/step - loss: 0.2552 - accuracy: 0.9000 - val_loss: 0.4705 - val_accuracy: 0.7571\n",
            "Epoch 100/100\n",
            "1/1 [==============================] - 0s 35ms/step - loss: 0.2544 - accuracy: 0.9000 - val_loss: 0.4696 - val_accuracy: 0.7571\n"
          ]
        }
      ]
    },
    {
      "cell_type": "code",
      "source": [
        "pyplot.plot(history.history['accuracy'],label='train')\n",
        "pyplot.plot(history.history['val_accuracy'],label='test')\n",
        "pyplot.legend()\n",
        "pyplot.show()"
      ],
      "metadata": {
        "colab": {
          "base_uri": "https://localhost:8080/",
          "height": 265
        },
        "id": "PrsLgwxha1y_",
        "outputId": "ebcc61b1-40ad-4bd4-8d04-f7124430725c"
      },
      "execution_count": 22,
      "outputs": [
        {
          "output_type": "display_data",
          "data": {
            "text/plain": [
              "<Figure size 432x288 with 1 Axes>"
            ],
            "image/png": "[encoded data removed]"
          },
          "metadata": {
            "needs_background": "light"
          }
        }
      ]
    },
    {
      "cell_type": "code",
      "source": [],
      "metadata": {
        "id": "rIVup59Pa4BW"
      },
      "execution_count": null,
      "outputs": []
    }
  ]
}
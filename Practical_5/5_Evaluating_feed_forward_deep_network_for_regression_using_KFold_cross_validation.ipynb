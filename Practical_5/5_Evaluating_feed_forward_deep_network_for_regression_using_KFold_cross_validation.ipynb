{
  "nbformat": 4,
  "nbformat_minor": 0,
  "metadata": {
    "colab": {
      "provenance": []
    },
    "kernelspec": {
      "name": "python3",
      "display_name": "Python 3"
    },
    "language_info": {
      "name": "python"
    },
    "accelerator": "GPU",
    "gpuClass": "standard"
  },
  "cells": [
    {
      "cell_type": "code",
      "execution_count": 1,
      "metadata": {
        "id": "qys8hiH6TgOH"
      },
      "outputs": [],
      "source": [
        "from tensorflow.keras.datasets import cifar10\n",
        "from tensorflow.keras.models import Sequential\n",
        "from tensorflow.keras.layers import Dense, Flatten, Conv2D, MaxPooling2D\n",
        "from tensorflow.keras.losses import sparse_categorical_crossentropy\n",
        "from tensorflow.keras.optimizers import Adam\n",
        "import matplotlib.pyplot as plt"
      ]
    },
    {
      "cell_type": "code",
      "source": [
        "# Model configuration\n",
        "batch_size = 50\n",
        "img_width, img_height, img_num_channels = 32, 32, 3\n",
        "loss_function = sparse_categorical_crossentropy\n",
        "no_classes = 100\n",
        "no_epochs = 10   # you can increase it to 20,50,70, 100 \n",
        "optimizer = Adam()\n",
        "verbosity = 1"
      ],
      "metadata": {
        "id": "in2a5n5rTp8x"
      },
      "execution_count": 2,
      "outputs": []
    },
    {
      "cell_type": "code",
      "source": [
        "# Load CIFAR-10 data\n",
        "(input_train, target_train), (input_test, target_test) = cifar10.load_data()\n",
        "\n",
        "# Determine shape of the data\n",
        "input_shape = (img_width, img_height, img_num_channels)\n"
      ],
      "metadata": {
        "id": "j0xnC2LaTr6g",
        "colab": {
          "base_uri": "https://localhost:8080/"
        },
        "outputId": "32cc4b63-58e6-40da-a9ca-bae07f227cf9"
      },
      "execution_count": 3,
      "outputs": [
        {
          "output_type": "stream",
          "name": "stdout",
          "text": [
            "Downloading data from https://www.cs.toronto.edu/~kriz/cifar-10-python.tar.gz\n",
            "170498071/170498071 [==============================] - 13s 0us/step\n"
          ]
        }
      ]
    },
    {
      "cell_type": "code",
      "source": [
        "# Parse numbers as floats\n",
        "input_train = input_train.astype('float32')\n",
        "input_test = input_test.astype('float32')"
      ],
      "metadata": {
        "id": "aTpHc_MQTy9k"
      },
      "execution_count": 4,
      "outputs": []
    },
    {
      "cell_type": "code",
      "source": [
        "# Normalize data\n",
        "input_train = input_train / 255\n",
        "input_test = input_test / 255"
      ],
      "metadata": {
        "id": "HaVI4sDdT1_-"
      },
      "execution_count": 5,
      "outputs": []
    },
    {
      "cell_type": "code",
      "source": [
        "# Create the model\n",
        "model = Sequential()\n",
        "model.add(Conv2D(32, kernel_size=(3, 3), activation='relu', input_shape=input_shape))\n",
        "model.add(MaxPooling2D(pool_size=(2, 2)))\n",
        "model.add(Conv2D(64, kernel_size=(3, 3), activation='relu'))\n",
        "model.add(MaxPooling2D(pool_size=(2, 2)))\n",
        "model.add(Flatten())\n",
        "model.add(Dense(256, activation='relu'))\n",
        "model.add(Dense(128, activation='relu'))\n",
        "model.add(Dense(no_classes, activation='softmax'))"
      ],
      "metadata": {
        "id": "Ml1VM2kwT3z2"
      },
      "execution_count": 6,
      "outputs": []
    },
    {
      "cell_type": "code",
      "source": [
        "model.summary()"
      ],
      "metadata": {
        "colab": {
          "base_uri": "https://localhost:8080/"
        },
        "id": "YPVUHv03UCH3",
        "outputId": "afbe8611-66d9-46da-84d1-2a161c784ae4"
      },
      "execution_count": 7,
      "outputs": [
        {
          "output_type": "stream",
          "name": "stdout",
          "text": [
            "Model: \"sequential\"\n",
            "_________________________________________________________________\n",
            " Layer (type)                Output Shape              Param #   \n",
            "=================================================================\n",
            " conv2d (Conv2D)             (None, 30, 30, 32)        896       \n",
            "                                                                 \n",
            " max_pooling2d (MaxPooling2D  (None, 15, 15, 32)       0         \n",
            " )                                                               \n",
            "                                                                 \n",
            " conv2d_1 (Conv2D)           (None, 13, 13, 64)        18496     \n",
            "                                                                 \n",
            " max_pooling2d_1 (MaxPooling  (None, 6, 6, 64)         0         \n",
            " 2D)                                                             \n",
            "                                                                 \n",
            " flatten (Flatten)           (None, 2304)              0         \n",
            "                                                                 \n",
            " dense (Dense)               (None, 256)               590080    \n",
            "                                                                 \n",
            " dense_1 (Dense)             (None, 128)               32896     \n",
            "                                                                 \n",
            " dense_2 (Dense)             (None, 100)               12900     \n",
            "                                                                 \n",
            "=================================================================\n",
            "Total params: 655,268\n",
            "Trainable params: 655,268\n",
            "Non-trainable params: 0\n",
            "_________________________________________________________________\n"
          ]
        }
      ]
    },
    {
      "cell_type": "code",
      "source": [
        "# Compile the model\n",
        "model.compile(loss=loss_function, optimizer=optimizer,metrics=['accuracy'])"
      ],
      "metadata": {
        "id": "48IWK8PnUD98"
      },
      "execution_count": 8,
      "outputs": []
    },
    {
      "cell_type": "code",
      "source": [
        "# Fit data to model (this will take little time to train)\n",
        "history = model.fit(input_train, target_train, batch_size=batch_size, epochs=no_epochs, verbose=verbosity)"
      ],
      "metadata": {
        "colab": {
          "base_uri": "https://localhost:8080/"
        },
        "id": "ZLnzBeT8UJE0",
        "outputId": "73c95de0-d975-4de4-a4ae-253b031b4bb7"
      },
      "execution_count": 9,
      "outputs": [
        {
          "output_type": "stream",
          "name": "stdout",
          "text": [
            "Epoch 1/10\n",
            "1000/1000 [==============================] - 13s 4ms/step - loss: 1.5349 - accuracy: 0.4482\n",
            "Epoch 2/10\n",
            "1000/1000 [==============================] - 4s 4ms/step - loss: 1.1230 - accuracy: 0.6032\n",
            "Epoch 3/10\n",
            "1000/1000 [==============================] - 4s 4ms/step - loss: 0.9650 - accuracy: 0.6615\n",
            "Epoch 4/10\n",
            "1000/1000 [==============================] - 3s 3ms/step - loss: 0.8532 - accuracy: 0.7009\n",
            "Epoch 5/10\n",
            "1000/1000 [==============================] - 3s 3ms/step - loss: 0.7647 - accuracy: 0.7320\n",
            "Epoch 6/10\n",
            "1000/1000 [==============================] - 3s 3ms/step - loss: 0.6851 - accuracy: 0.7601\n",
            "Epoch 7/10\n",
            "1000/1000 [==============================] - 4s 4ms/step - loss: 0.6053 - accuracy: 0.7871\n",
            "Epoch 8/10\n",
            "1000/1000 [==============================] - 4s 4ms/step - loss: 0.5379 - accuracy: 0.8113\n",
            "Epoch 9/10\n",
            "1000/1000 [==============================] - 4s 4ms/step - loss: 0.4700 - accuracy: 0.8343\n",
            "Epoch 10/10\n",
            "1000/1000 [==============================] - 4s 4ms/step - loss: 0.4099 - accuracy: 0.8554\n"
          ]
        }
      ]
    },
    {
      "cell_type": "code",
      "source": [
        "# Generate generalization metrics\n",
        "score = model.evaluate(input_test, target_test, verbose=0)\n",
        "print(f'Test loss: {score[0]} / Test accuracy: {score[1]}')\n"
      ],
      "metadata": {
        "colab": {
          "base_uri": "https://localhost:8080/"
        },
        "id": "GWD86vBAUO5T",
        "outputId": "90890a37-40cf-4139-ec18-0067f8ba1f77"
      },
      "execution_count": 10,
      "outputs": [
        {
          "output_type": "stream",
          "name": "stdout",
          "text": [
            "Test loss: 0.9761998057365417 / Test accuracy: 0.7134000062942505\n"
          ]
        }
      ]
    },
    {
      "cell_type": "code",
      "source": [
        "# Visualize history\n",
        "# Plot history: Loss\n",
        "plt.plot(history.history['loss'])\n",
        "plt.title('Validation loss history')\n",
        "plt.ylabel('Loss value')\n",
        "plt.xlabel('No. epoch')\n",
        "plt.show()"
      ],
      "metadata": {
        "colab": {
          "base_uri": "https://localhost:8080/",
          "height": 295
        },
        "id": "QCqCAUlDUSPr",
        "outputId": "e380c61a-95f3-49aa-8279-00d2dc2d4a8a"
      },
      "execution_count": 11,
      "outputs": [
        {
          "output_type": "display_data",
          "data": {
            "text/plain": [
              "<Figure size 432x288 with 1 Axes>"
            ],
            "image/png": "[encoded data removed]"
          },
          "metadata": {
            "needs_background": "light"
          }
        }
      ]
    },
    {
      "cell_type": "code",
      "source": [
        "# Plot history: Accuracy\n",
        "plt.plot(history.history['accuracy'])\n",
        "plt.title('Validation accuracy history')\n",
        "plt.ylabel('Accuracy value (%)')\n",
        "plt.xlabel('No. epoch')\n",
        "plt.show()"
      ],
      "metadata": {
        "colab": {
          "base_uri": "https://localhost:8080/",
          "height": 295
        },
        "id": "zKU9hOLVUU3U",
        "outputId": "fe4aa2f2-0ddf-4a89-b204-ba6b3dc944b6"
      },
      "execution_count": 12,
      "outputs": [
        {
          "output_type": "display_data",
          "data": {
            "text/plain": [
              "<Figure size 432x288 with 1 Axes>"
            ],
            "image/png": "[encoded data removed]"
          },
          "metadata": {
            "needs_background": "light"
          }
        }
      ]
    },
    {
      "cell_type": "code",
      "source": [
        "# By Adding k fold cross validation\n",
        "\n",
        "\n",
        "from tensorflow.keras.datasets import cifar10\n",
        "from tensorflow.keras.models import Sequential\n",
        "from tensorflow.keras.layers import Dense, Flatten, Conv2D, MaxPooling2D\n",
        "from tensorflow.keras.losses import sparse_categorical_crossentropy\n",
        "from tensorflow.keras.optimizers import Adam\n",
        "from sklearn.model_selection import KFold\n",
        "import numpy as np\n",
        "\n",
        "# Model configuration\n",
        "batch_size = 50\n",
        "img_width, img_height, img_num_channels = 32, 32, 3\n",
        "loss_function = sparse_categorical_crossentropy\n",
        "no_classes = 100\n",
        "no_epochs = 10\n",
        "optimizer = Adam()\n",
        "verbosity = 1\n",
        "num_folds = 5\n",
        "\n",
        "# Load CIFAR-10 data\n",
        "(input_train, target_train), (input_test, target_test) = cifar10.load_data()\n",
        "\n",
        "# Determine shape of the data\n",
        "input_shape = (img_width, img_height, img_num_channels)\n",
        "\n",
        "# Parse numbers as floats\n",
        "input_train = input_train.astype('float32')\n",
        "input_test = input_test.astype('float32')\n",
        "\n",
        "# Normalize data\n",
        "input_train = input_train / 255\n",
        "input_test = input_test / 255\n",
        "\n",
        "# Define per-fold score containers\n",
        "acc_per_fold = []\n",
        "loss_per_fold = []\n",
        "\n",
        "# Merge inputs and targets\n",
        "inputs = np.concatenate((input_train, input_test), axis=0)\n",
        "targets = np.concatenate((target_train, target_test), axis=0)\n",
        "\n",
        "# Define the K-fold Cross Validator\n",
        "kfold = KFold(n_splits=num_folds, shuffle=True)\n",
        "\n"
      ],
      "metadata": {
        "id": "vbJB5yMsWmnv"
      },
      "execution_count": 13,
      "outputs": []
    },
    {
      "cell_type": "code",
      "source": [
        "# K-fold Cross Validation model evaluation\n",
        "fold_no = 1\n",
        "for train, test in kfold.split(inputs, targets):\n",
        "\n",
        "  # Define the model architecture\n",
        "  model = Sequential()\n",
        "  model.add(Conv2D(32, kernel_size=(3, 3), activation='relu', input_shape=input_shape))\n",
        "  model.add(MaxPooling2D(pool_size=(2, 2)))\n",
        "  model.add(Conv2D(64, kernel_size=(3, 3), activation='relu'))\n",
        "  model.add(MaxPooling2D(pool_size=(2, 2)))\n",
        "  model.add(Flatten())\n",
        "  model.add(Dense(256, activation='relu'))\n",
        "  model.add(Dense(128, activation='relu'))\n",
        "  model.add(Dense(no_classes, activation='softmax'))\n",
        "\n",
        "  # Compile the model\n",
        "  model.compile(loss=loss_function,\n",
        "                optimizer=optimizer,\n",
        "                metrics=['accuracy'])\n",
        "\n",
        "\n",
        "  # Generate a print\n",
        "  print('------------------------------------------------------------------------')\n",
        "  print(f'Training for fold {fold_no} ...')\n",
        "\n",
        "  # Fit data to model\n",
        "  history = model.fit(inputs[train], targets[train],\n",
        "              batch_size=batch_size,\n",
        "              epochs=no_epochs,\n",
        "              verbose=verbosity)\n",
        "\n",
        "  # Generate generalization metrics\n",
        "  scores = model.evaluate(inputs[test], targets[test], verbose=0)\n",
        "  print(f'Score for fold {fold_no}: {model.metrics_names[0]} of {scores[0]}; {model.metrics_names[1]} of {scores[1]*100}%')\n",
        "  acc_per_fold.append(scores[1] * 100)\n",
        "  loss_per_fold.append(scores[0])\n",
        "\n",
        "  # Increase fold number\n",
        "  fold_no = fold_no + 1\n"
      ],
      "metadata": {
        "colab": {
          "base_uri": "https://localhost:8080/"
        },
        "id": "BApAQO6AWxpH",
        "outputId": "29c6b5b5-aa66-4155-c169-b095919995da"
      },
      "execution_count": 14,
      "outputs": [
        {
          "output_type": "stream",
          "name": "stdout",
          "text": [
            "------------------------------------------------------------------------\n",
            "Training for fold 1 ...\n",
            "Epoch 1/10\n",
            "960/960 [==============================] - 4s 4ms/step - loss: 1.5815 - accuracy: 0.4344\n",
            "Epoch 2/10\n",
            "960/960 [==============================] - 3s 4ms/step - loss: 1.1393 - accuracy: 0.5962\n",
            "Epoch 3/10\n",
            "960/960 [==============================] - 3s 3ms/step - loss: 0.9729 - accuracy: 0.6572\n",
            "Epoch 4/10\n",
            "960/960 [==============================] - 3s 3ms/step - loss: 0.8649 - accuracy: 0.6948\n",
            "Epoch 5/10\n",
            "960/960 [==============================] - 3s 4ms/step - loss: 0.7740 - accuracy: 0.7286\n",
            "Epoch 6/10\n",
            "960/960 [==============================] - 3s 4ms/step - loss: 0.6964 - accuracy: 0.7551\n",
            "Epoch 7/10\n",
            "960/960 [==============================] - 3s 4ms/step - loss: 0.6204 - accuracy: 0.7816\n",
            "Epoch 8/10\n",
            "960/960 [==============================] - 3s 3ms/step - loss: 0.5521 - accuracy: 0.8054\n",
            "Epoch 9/10\n",
            "960/960 [==============================] - 3s 4ms/step - loss: 0.4893 - accuracy: 0.8277\n",
            "Epoch 10/10\n",
            "960/960 [==============================] - 3s 4ms/step - loss: 0.4266 - accuracy: 0.8480\n",
            "Score for fold 1: loss of 0.968611478805542; accuracy of 70.6333339214325%\n",
            "------------------------------------------------------------------------\n",
            "Training for fold 2 ...\n",
            "Epoch 1/10\n",
            "960/960 [==============================] - 4s 4ms/step - loss: 1.6007 - accuracy: 0.4112\n",
            "Epoch 2/10\n",
            "960/960 [==============================] - 3s 4ms/step - loss: 1.2204 - accuracy: 0.5625\n",
            "Epoch 3/10\n",
            "960/960 [==============================] - 3s 4ms/step - loss: 1.0503 - accuracy: 0.6271\n",
            "Epoch 4/10\n",
            "960/960 [==============================] - 3s 4ms/step - loss: 0.9481 - accuracy: 0.6644\n",
            "Epoch 5/10\n",
            "960/960 [==============================] - 3s 3ms/step - loss: 0.8739 - accuracy: 0.6917\n",
            "Epoch 6/10\n",
            "960/960 [==============================] - 3s 3ms/step - loss: 0.8140 - accuracy: 0.7125\n",
            "Epoch 7/10\n",
            "960/960 [==============================] - 3s 3ms/step - loss: 0.7612 - accuracy: 0.7327\n",
            "Epoch 8/10\n",
            "960/960 [==============================] - 3s 4ms/step - loss: 0.7117 - accuracy: 0.7504\n",
            "Epoch 9/10\n",
            "960/960 [==============================] - 3s 3ms/step - loss: 0.6680 - accuracy: 0.7675\n",
            "Epoch 10/10\n",
            "960/960 [==============================] - 3s 4ms/step - loss: 0.6233 - accuracy: 0.7813\n",
            "Score for fold 2: loss of 0.9797550439834595; accuracy of 67.59999990463257%\n",
            "------------------------------------------------------------------------\n",
            "Training for fold 3 ...\n",
            "Epoch 1/10\n",
            "960/960 [==============================] - 4s 4ms/step - loss: 1.4793 - accuracy: 0.4608\n",
            "Epoch 2/10\n",
            "960/960 [==============================] - 3s 4ms/step - loss: 1.1011 - accuracy: 0.6094\n",
            "Epoch 3/10\n",
            "960/960 [==============================] - 3s 3ms/step - loss: 0.9642 - accuracy: 0.6597\n",
            "Epoch 4/10\n",
            "960/960 [==============================] - 3s 4ms/step - loss: 0.8740 - accuracy: 0.6927\n",
            "Epoch 5/10\n",
            "960/960 [==============================] - 3s 4ms/step - loss: 0.7956 - accuracy: 0.7198\n",
            "Epoch 6/10\n",
            "960/960 [==============================] - 3s 3ms/step - loss: 0.7321 - accuracy: 0.7416\n",
            "Epoch 7/10\n",
            "960/960 [==============================] - 3s 4ms/step - loss: 0.6718 - accuracy: 0.7642\n",
            "Epoch 8/10\n",
            "960/960 [==============================] - 3s 4ms/step - loss: 0.6165 - accuracy: 0.7827\n",
            "Epoch 9/10\n",
            "960/960 [==============================] - 3s 4ms/step - loss: 0.5702 - accuracy: 0.8008\n",
            "Epoch 10/10\n",
            "960/960 [==============================] - 3s 4ms/step - loss: 0.5174 - accuracy: 0.8186\n",
            "Score for fold 3: loss of 0.9450865983963013; accuracy of 70.02500295639038%\n",
            "------------------------------------------------------------------------\n",
            "Training for fold 4 ...\n",
            "Epoch 1/10\n",
            "960/960 [==============================] - 4s 4ms/step - loss: 1.6347 - accuracy: 0.4000\n",
            "Epoch 2/10\n",
            "960/960 [==============================] - 3s 3ms/step - loss: 1.2677 - accuracy: 0.5432\n",
            "Epoch 3/10\n",
            "960/960 [==============================] - 3s 3ms/step - loss: 1.1253 - accuracy: 0.5979\n",
            "Epoch 4/10\n",
            "960/960 [==============================] - 3s 3ms/step - loss: 1.0234 - accuracy: 0.6366\n",
            "Epoch 5/10\n",
            "960/960 [==============================] - 3s 3ms/step - loss: 0.9472 - accuracy: 0.6654\n",
            "Epoch 6/10\n",
            "960/960 [==============================] - 3s 4ms/step - loss: 0.8883 - accuracy: 0.6841\n",
            "Epoch 7/10\n",
            "960/960 [==============================] - 3s 4ms/step - loss: 0.8369 - accuracy: 0.7052\n",
            "Epoch 8/10\n",
            "960/960 [==============================] - 3s 4ms/step - loss: 0.7927 - accuracy: 0.7200\n",
            "Epoch 9/10\n",
            "960/960 [==============================] - 4s 4ms/step - loss: 0.7475 - accuracy: 0.7343\n",
            "Epoch 10/10\n",
            "960/960 [==============================] - 3s 4ms/step - loss: 0.7107 - accuracy: 0.7488\n",
            "Score for fold 4: loss of 0.9867879152297974; accuracy of 67.166668176651%\n",
            "------------------------------------------------------------------------\n",
            "Training for fold 5 ...\n",
            "Epoch 1/10\n",
            "960/960 [==============================] - 4s 4ms/step - loss: 1.5502 - accuracy: 0.4354\n",
            "Epoch 2/10\n",
            "960/960 [==============================] - 3s 4ms/step - loss: 1.1433 - accuracy: 0.5945\n",
            "Epoch 3/10\n",
            "960/960 [==============================] - 3s 3ms/step - loss: 1.0069 - accuracy: 0.6456\n",
            "Epoch 4/10\n",
            "960/960 [==============================] - 3s 3ms/step - loss: 0.9192 - accuracy: 0.6786\n",
            "Epoch 5/10\n",
            "960/960 [==============================] - 3s 4ms/step - loss: 0.8474 - accuracy: 0.7045\n",
            "Epoch 6/10\n",
            "960/960 [==============================] - 3s 3ms/step - loss: 0.7830 - accuracy: 0.7256\n",
            "Epoch 7/10\n",
            "960/960 [==============================] - 3s 4ms/step - loss: 0.7271 - accuracy: 0.7444\n",
            "Epoch 8/10\n",
            "960/960 [==============================] - 3s 4ms/step - loss: 0.6765 - accuracy: 0.7638\n",
            "Epoch 9/10\n",
            "960/960 [==============================] - 3s 3ms/step - loss: 0.6273 - accuracy: 0.7790\n",
            "Epoch 10/10\n",
            "960/960 [==============================] - 3s 3ms/step - loss: 0.5780 - accuracy: 0.7972\n",
            "Score for fold 5: loss of 0.9666193723678589; accuracy of 69.03333067893982%\n"
          ]
        }
      ]
    },
    {
      "cell_type": "code",
      "source": [
        "# == Provide average scores ==\n",
        "print('------------------------------------------------------------------------')\n",
        "print('Score per fold')\n",
        "for i in range(0, len(acc_per_fold)):\n",
        "  print('------------------------------------------------------------------------')\n",
        "  print(f'> Fold {i+1} - Loss: {loss_per_fold[i]} - Accuracy: {acc_per_fold[i]}%')\n",
        "print('------------------------------------------------------------------------')\n",
        "print('Average scores for all folds:')\n",
        "print(f'> Accuracy: {np.mean(acc_per_fold)} (+- {np.std(acc_per_fold)})')\n",
        "print(f'> Loss: {np.mean(loss_per_fold)}')\n",
        "print('------------------------------------------------------------------------')"
      ],
      "metadata": {
        "id": "j3UnRTGLWz5E",
        "colab": {
          "base_uri": "https://localhost:8080/"
        },
        "outputId": "fd9726d4-5021-4d2d-e60c-165fe27fa3a0"
      },
      "execution_count": 15,
      "outputs": [
        {
          "output_type": "stream",
          "name": "stdout",
          "text": [
            "------------------------------------------------------------------------\n",
            "Score per fold\n",
            "------------------------------------------------------------------------\n",
            "> Fold 1 - Loss: 0.968611478805542 - Accuracy: 70.6333339214325%\n",
            "------------------------------------------------------------------------\n",
            "> Fold 2 - Loss: 0.9797550439834595 - Accuracy: 67.59999990463257%\n",
            "------------------------------------------------------------------------\n",
            "> Fold 3 - Loss: 0.9450865983963013 - Accuracy: 70.02500295639038%\n",
            "------------------------------------------------------------------------\n",
            "> Fold 4 - Loss: 0.9867879152297974 - Accuracy: 67.166668176651%\n",
            "------------------------------------------------------------------------\n",
            "> Fold 5 - Loss: 0.9666193723678589 - Accuracy: 69.03333067893982%\n",
            "------------------------------------------------------------------------\n",
            "Average scores for all folds:\n",
            "> Accuracy: 68.89166712760925 (+- 1.340294555610855)\n",
            "> Loss: 0.9693720817565918\n",
            "------------------------------------------------------------------------\n"
          ]
        }
      ]
    },
    {
      "cell_type": "code",
      "source": [],
      "metadata": {
        "id": "0Akd5d8vZ9Ap"
      },
      "execution_count": 15,
      "outputs": []
    }
  ]
}